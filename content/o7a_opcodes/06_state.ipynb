{
 "cells": [
  {
   "cell_type": "markdown",
   "id": "8dc8bbe7",
   "metadata": {},
   "source": [
    "# EVM State"
   ]
  },
  {
   "cell_type": "markdown",
   "id": "e823b035",
   "metadata": {},
   "source": [
    "The EVM is a state machine. A valid Ethereum program or valid bytecode can manipulate that state."
   ]
  },
  {
   "cell_type": "markdown",
   "id": "ef6f7b17",
   "metadata": {},
   "source": [
    "A specific opcode is an operation that manipulates that state."
   ]
  },
  {
   "cell_type": "markdown",
   "id": "f3d691bc",
   "metadata": {},
   "source": [
    "![EVM Storage Diagram](https://github.com/methu-ship/uploads/raw/main/evm-storage.png)\n",
    "*Source: [Ethereum.org EVM Documentation](https://ethereum.org/en/developers/docs/evm/)*"
   ]
  },
  {
   "cell_type": "markdown",
   "id": "9ed318d8",
   "metadata": {},
   "source": [
    "### Program Counter (pc)"
   ]
  },
  {
   "cell_type": "markdown",
   "id": "102878f9",
   "metadata": {},
   "source": [
    "The program counter points to the next opcode that the EVM is going to execute."
   ]
  },
  {
   "cell_type": "markdown",
   "id": "6101aee9",
   "metadata": {},
   "source": [
    "### Stack / Memory / Storage"
   ]
  },
  {
   "cell_type": "markdown",
   "id": "5569f53e",
   "metadata": {},
   "source": [
    "All of them are part of the EVM state. And are the areas where the EVM manipulates and stores data."
   ]
  },
  {
   "cell_type": "markdown",
   "id": "dfefb385",
   "metadata": {},
   "source": [
    "### Program"
   ]
  },
  {
   "cell_type": "markdown",
   "id": "e89a820a",
   "metadata": {},
   "source": [
    "This is where we store the bytecode of the current program. It can not change during execution, which makes it immutable."
   ]
  },
  {
   "cell_type": "markdown",
   "id": "56fbf9e5",
   "metadata": {},
   "source": [
    "### Sender"
   ]
  },
  {
   "cell_type": "markdown",
   "id": "bd2f75ab",
   "metadata": {},
   "source": [
    "Address of the account currently executing this program. Equivalent to `msg.sender` in Solidity."
   ]
  },
  {
   "cell_type": "markdown",
   "id": "3e1995f0",
   "metadata": {},
   "source": [
    "### Gas"
   ]
  },
  {
   "cell_type": "markdown",
   "id": "bcbc4a95",
   "metadata": {},
   "source": [
    "We need to keep track of how much gas we currently have and how much we have already consumed. Most opcodes make the gas counter go down."
   ]
  },
  {
   "cell_type": "markdown",
   "id": "890645e7",
   "metadata": {},
   "source": [
    "### Value"
   ]
  },
  {
   "cell_type": "markdown",
   "id": "70546413",
   "metadata": {},
   "source": [
    "How much Ether (wei) can this current execution consume?"
   ]
  },
  {
   "cell_type": "markdown",
   "id": "b0138125",
   "metadata": {},
   "source": [
    "### Calldata"
   ]
  },
  {
   "cell_type": "markdown",
   "id": "e7b6c2dc",
   "metadata": {},
   "source": [
    "Is the input to our program."
   ]
  },
  {
   "cell_type": "markdown",
   "id": "894193ed",
   "metadata": {},
   "source": [
    "### Flags"
   ]
  },
  {
   "cell_type": "markdown",
   "id": "dad4e945",
   "metadata": {},
   "source": [
    "We are going to keep track of two flags. The `stop_flag` and `revert_flag`. If one of them is `True`, the current execution is going to stop."
   ]
  },
  {
   "cell_type": "markdown",
   "id": "575810b9",
   "metadata": {},
   "source": [
    "### Returndata"
   ]
  },
  {
   "cell_type": "markdown",
   "id": "6e9c08f9",
   "metadata": {},
   "source": [
    "The EVM can return data after execution. We store this data in `return`."
   ]
  },
  {
   "cell_type": "markdown",
   "id": "786eccf3",
   "metadata": {},
   "source": [
    "### Logs"
   ]
  },
  {
   "cell_type": "markdown",
   "id": "dcc3cf49",
   "metadata": {},
   "source": [
    "There are several opcodes that emit logs when executed. The result of these logs is saved here."
   ]
  },
  {
   "cell_type": "code",
   "execution_count": null,
   "metadata": {},
   "outputs": [],
   "source": [
    "class State:\n",
    "    def __init__(self,\n",
    "                 sender,\n",
    "                 program,\n",
    "                 gas,\n",
    "                 value,\n",
    "                 calldata=[]):\n",
    "        self.pc      = 0\n",
    "        \n",
    "        self.stack   = Stack()\n",
    "        self.memory  = Memory()\n",
    "        self.storage = Storage()\n",
    "        \n",
    "        self.sender   = sender\n",
    "        self.program  = program\n",
    "        self.gas      = gas\n",
    "        self.value    = value\n",
    "        self.calldata = calldata\n",
    "        \n",
    "        self.stop_flag   = False\n",
    "        self.revert_flag = False\n",
    "        \n",
    "        self.returndata = []\n",
    "        self.logs       = []"
   ]
  }
 ],
 "metadata": {
  "kernelspec": {
   "display_name": "Python 3 (ipykernel)",
   "language": "python",
   "name": "python3"
  },
  "language_info": {
   "codemirror_mode": {
    "name": "ipython",
    "version": 3
   },
   "file_extension": ".py",
   "mimetype": "text/x-python",
   "name": "python",
   "nbconvert_exporter": "python",
   "pygments_lexer": "ipython3",
   "version": "3.9.6"
  }
 },
 "nbformat": 4,
 "nbformat_minor": 5
}
