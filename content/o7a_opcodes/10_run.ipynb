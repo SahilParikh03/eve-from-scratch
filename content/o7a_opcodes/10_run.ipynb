{
 "cells": [
  {
   "cell_type": "code",
   "execution_count": null,
   "id": "3e486478",
   "metadata": {},
   "outputs": [],
   "source": [
    "%run utils.ipynb\n",
    "\n",
    "notebooks = [\n",
    "    \"08_evm.ipynb\",\n",
    "    \"09_bytecode.ipynb\"\n",
    "]\n",
    "\n",
    "import_notebooks(notebooks)"
   ]
  },
  {
   "cell_type": "markdown",
   "id": "c16be999-d39a-4e62-b342-3518cc1c4ba6",
   "metadata": {},
   "source": [
    "# Run"
   ]
  },
  {
   "cell_type": "code",
   "execution_count": 68,
   "id": "d2f28323",
   "metadata": {},
   "outputs": [],
   "source": [
    "GAS = 21_000"
   ]
  },
  {
   "cell_type": "markdown",
   "id": "22a5936c",
   "metadata": {},
   "source": [
    "Set up the EVM"
   ]
  },
  {
   "cell_type": "code",
   "execution_count": 69,
   "id": "ecb05fe2",
   "metadata": {},
   "outputs": [],
   "source": [
    "evm = EVM(SIMPLE_ADD, GAS, 0)"
   ]
  },
  {
   "cell_type": "markdown",
   "id": "42b8dd02",
   "metadata": {},
   "source": [
    "Run it!"
   ]
  },
  {
   "cell_type": "code",
   "execution_count": 70,
   "id": "329276d5",
   "metadata": {},
   "outputs": [],
   "source": [
    "evm.run()"
   ]
  },
  {
   "cell_type": "markdown",
   "id": "eee75486",
   "metadata": {},
   "source": [
    "Take a look at the result"
   ]
  },
  {
   "cell_type": "code",
   "execution_count": 71,
   "id": "b6b6da94",
   "metadata": {},
   "outputs": [
    {
     "name": "stdout",
     "output_type": "stream",
     "text": [
      "321 <first\n"
     ]
    }
   ],
   "source": [
    "print(evm.stack)"
   ]
  },
  {
   "cell_type": "markdown",
   "id": "b7516eae",
   "metadata": {},
   "source": [
    "Congratulations on making it this far! You've successfully built a working foundation and gained hands-on experience with the core concepts of EVM. From here, you might explore additional opcodes beyond what we've covered, dive deeper into the complete implementation code, or experiment with creative ideas of your own."
   ]
  }
 ],
 "metadata": {
  "kernelspec": {
   "display_name": "Python 3 (ipykernel)",
   "language": "python",
   "name": "python3"
  },
  "language_info": {
   "codemirror_mode": {
    "name": "ipython",
    "version": 3
   },
   "file_extension": ".py",
   "mimetype": "text/x-python",
   "name": "python",
   "nbconvert_exporter": "python",
   "pygments_lexer": "ipython3",
   "version": "3.9.6"
  }
 },
 "nbformat": 4,
 "nbformat_minor": 5
}
