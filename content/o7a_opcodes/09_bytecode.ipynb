{
 "cells": [
  {
   "cell_type": "markdown",
   "id": "dc9ace8b",
   "metadata": {},
   "source": [
    "# Bytecode"
   ]
  },
  {
   "cell_type": "markdown",
   "id": "389b791e",
   "metadata": {},
   "source": [
    "Now that we have the EVM, we can talk a little more about the Bytecode. Bytecode is executed by the EVM."
   ]
  },
  {
   "cell_type": "markdown",
   "id": "6114cfac",
   "metadata": {},
   "source": [
    "Valid Bytecode is simply a list of valid opcodes and their operands.\n",
    "We call a list of opcodes and their operands a `program`."
   ]
  },
  {
   "cell_type": "markdown",
   "id": "b7808406",
   "metadata": {},
   "source": [
    "## Simple Push"
   ]
  },
  {
   "cell_type": "markdown",
   "id": "16994d42",
   "metadata": {},
   "source": [
    "The program that pushes `0x42` on the stack would look like this."
   ]
  },
  {
   "cell_type": "code",
   "execution_count": 10,
   "id": "4450aec6",
   "metadata": {},
   "outputs": [],
   "source": [
    "SIMPLE_PUSH = [0x60, 0x42]"
   ]
  },
  {
   "cell_type": "markdown",
   "id": "fcf88cd0",
   "metadata": {},
   "source": [
    "or simply: `0x6042`"
   ]
  },
  {
   "cell_type": "markdown",
   "id": "7426f37d",
   "metadata": {},
   "source": [
    "## Instructions and Data"
   ]
  },
  {
   "cell_type": "markdown",
   "id": "4c8f610f",
   "metadata": {},
   "source": [
    "As you can see, the bytecode consists of both instructions **and** data. It is up to the program writer to make sure that data and instructions are not mixed up.\n",
    "\n",
    "This is what we call the `von Neumann architecture`."
   ]
  },
  {
   "cell_type": "markdown",
   "id": "1fea6198",
   "metadata": {},
   "source": [
    "## EVM Versions\n",
    "\n",
    "The EVM is not static. It evolves over time through **hard forks** - coordinated upgrades that add new opcodes or change existing behavior.\n"
   ]
  },
  {
   "cell_type": "markdown",
   "id": "ede02815",
   "metadata": {},
   "source": [
    "### Major Ethereum Forks\n",
    "\n",
    "| Fork | Date | Key Changes |\n",
    "|------|------|-------------|\n",
    "| **Frontier** | Jul 2015 | Original EVM |\n",
    "| **Homestead** | Mar 2016 | Added DELEGATECALL |\n",
    "| **Byzantium** | Oct 2017 | Added REVERT, STATICCALL |\n",
    "| **Constantinople** | Feb 2019 | Added CREATE2, SHL, SHR, SAR |\n",
    "| **Istanbul** | Dec 2019 | Added CHAINID, SELFBALANCE |\n",
    "| **London** | Aug 2021 | Added BASEFEE |\n",
    "| **Shanghai** | Apr 2023 | Added PUSH0 |\n",
    "| **Cancun** | Mar 2024 | Added TLOAD, TSTORE |\n",
    "| **Prague** | May 2025 | Added AUTH, AUTHCALL |\n"
   ]
  },
  {
   "cell_type": "markdown",
   "id": "a7e09085",
   "metadata": {},
   "source": [
    "For more up-to-date information, check the [Ethereum History](https://ethereum.org/en/history/) page."
   ]
  },
  {
   "cell_type": "markdown",
   "id": "d6b0dc79",
   "metadata": {},
   "source": [
    "### Bytecode Compatibility\n",
    "\n",
    "Different EVM versions support different opcodes. For example:\n",
    "- `PUSH0` (added in Shanghai) creates more efficient bytecode than `PUSH1 0x00`\n",
    "- `CREATE2` (added in Constantinople) enables deterministic contract addresses\n",
    "- `TLOAD`/`TSTORE` (added in Cancun) provide transient storage\n",
    "\n",
    "Our mini-EVM implements the Cancun version with all modern opcodes.\n"
   ]
  },
  {
   "cell_type": "markdown",
   "id": "41e5bc83",
   "metadata": {},
   "source": [
    "## Simple Add"
   ]
  },
  {
   "cell_type": "markdown",
   "id": "932d9ed8",
   "metadata": {},
   "source": [
    "Another simple program could look like this. Here we push `0x42` and `0xFF` on the stack and add them together and put the result back onto the stack."
   ]
  },
  {
   "cell_type": "code",
   "execution_count": 11,
   "id": "54d5943c",
   "metadata": {},
   "outputs": [],
   "source": [
    "SIMPLE_ADD = [0x60, 0x42, 0x60, 0xFF, 0x01]"
   ]
  },
  {
   "cell_type": "markdown",
   "id": "cdf9846a",
   "metadata": {},
   "source": [
    "After executing this we should have a stack with exactly one element `321` on it."
   ]
  },
  {
   "cell_type": "markdown",
   "id": "a155489e",
   "metadata": {},
   "source": [
    "In the next step we will use the EVM that we built to actually execute these programs."
   ]
  }
 ],
 "metadata": {
  "kernelspec": {
   "display_name": "Python 3 (ipykernel)",
   "language": "python",
   "name": "python3"
  },
  "language_info": {
   "codemirror_mode": {
    "name": "ipython",
    "version": 3
   },
   "file_extension": ".py",
   "mimetype": "text/x-python",
   "name": "python",
   "nbconvert_exporter": "python",
   "pygments_lexer": "ipython3",
   "version": "3.9.6"
  }
 },
 "nbformat": 4,
 "nbformat_minor": 5
}
