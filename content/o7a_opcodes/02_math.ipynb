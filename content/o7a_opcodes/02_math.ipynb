{
 "cells": [
  {
   "cell_type": "markdown",
   "id": "a73f6343",
   "metadata": {},
   "source": [
    "# Math"
   ]
  },
  {
   "cell_type": "markdown",
   "id": "577d70ee",
   "metadata": {},
   "source": [
    "We are going to implement all arithmetic operations here. These are the first opcodes that actually manipulate the stack and consume some gas."
   ]
  },
  {
   "cell_type": "markdown",
   "id": "18e71195",
   "metadata": {},
   "source": [
    "Let's see how `add` works. We are going to `pop` 2 values from the stack add them and `push` back the result on the stack.\n",
    "\n",
    "We also need to increment the `program counter (pc)` by one. In the end we need to deduct 3 gas for executing the `add` operation."
   ]
  },
  {
   "cell_type": "markdown",
   "id": "234e88d3",
   "metadata": {},
   "source": [
    "Most arithmetic opcodes work like this."
   ]
  },
  {
   "cell_type": "code",
   "execution_count": 69,
   "id": "f4c2d206",
   "metadata": {},
   "outputs": [],
   "source": [
    "def add(evm):\n",
    "    a, b = evm.stack.pop(), evm.stack.pop()\n",
    "    evm.stack.push(a+b)\n",
    "    evm.pc += 1\n",
    "    evm.gas_dec(3)"
   ]
  },
  {
   "cell_type": "code",
   "execution_count": 9,
   "id": "4e87de0f",
   "metadata": {},
   "outputs": [],
   "source": [
    "def mul(evm):\n",
    "    a, b = evm.stack.pop(), evm.stack.pop()\n",
    "    evm.stack.push(a*b)\n",
    "    evm.pc += 1\n",
    "    evm.gas_dec(5)"
   ]
  },
  {
   "cell_type": "code",
   "execution_count": 7,
   "id": "b327519b",
   "metadata": {},
   "outputs": [],
   "source": [
    "def sub(evm):\n",
    "    a, b = evm.stack.pop(), evm.stack.pop()\n",
    "    evm.stack.push(a-b)\n",
    "    evm.pc += 1\n",
    "    evm.gas_dec(3)"
   ]
  },
  {
   "cell_type": "markdown",
   "id": "2302c413",
   "metadata": {},
   "source": [
    "One interesting note about how the EVM handles division by 0. Most other systems would throw an exception if you try to divide by 0. Not the EVM. It just returns 0.\n",
    "\n",
    "Division by 0 are not directly handled by the EVM and are mostly a feature of the programming language like Solidity."
   ]
  },
  {
   "cell_type": "code",
   "execution_count": 12,
   "id": "931677f6",
   "metadata": {},
   "outputs": [],
   "source": [
    "def div(evm):\n",
    "    a, b = evm.stack.pop(), evm.stack.pop()\n",
    "    evm.stack.push(0 if b == 0 else a // b)\n",
    "    evm.pc += 1\n",
    "    evm.gas_dec(5)"
   ]
  },
  {
   "cell_type": "markdown",
   "id": "823e5b6f",
   "metadata": {},
   "source": [
    "Exactly like div but we use the absolute value for both the denominator and numerator."
   ]
  },
  {
   "cell_type": "markdown",
   "id": "2d541e0f",
   "metadata": {},
   "source": [
    "Small little helper function to determine the sign of a number."
   ]
  },
  {
   "cell_type": "code",
   "execution_count": 13,
   "id": "a311e719",
   "metadata": {},
   "outputs": [],
   "source": [
    "pos_or_neg = lambda number: -1 if number < 0 else 1"
   ]
  },
  {
   "cell_type": "code",
   "execution_count": 18,
   "id": "19fc082e",
   "metadata": {},
   "outputs": [],
   "source": [
    "def sdiv(evm):\n",
    "    a, b = evm.stack.pop(), evm.stack.pop()\n",
    "    sign = pos_or_neg(a*b)\n",
    "    evm.stack.push(0 if b == 0 else sign * (abs(a) // abs(b)))\n",
    "    evm.pc += 1\n",
    "    evm.gas_dec(5)"
   ]
  },
  {
   "cell_type": "code",
   "execution_count": 17,
   "id": "b7cc3fc1",
   "metadata": {},
   "outputs": [],
   "source": [
    "def mod(evm):\n",
    "    a, b = evm.stack.pop(), evm.stack.pop()\n",
    "    evm.stack.push(0 if b == 0 else a % b)\n",
    "    evm.pc += 1\n",
    "    evm.gas_dec(5)"
   ]
  },
  {
   "cell_type": "code",
   "execution_count": 16,
   "id": "b7932479",
   "metadata": {},
   "outputs": [],
   "source": [
    "def smod(evm):\n",
    "    a, b = evm.stack.pop(), evm.stack.pop()\n",
    "    sign = -1 if a < 0 else 1  # sign of dividend only\n",
    "    evm.stack.push(0 if b == 0 else abs(a) % abs(b) * sign)\n",
    "    evm.pc += 1\n",
    "    evm.gas_dec(5)"
   ]
  },
  {
   "cell_type": "code",
   "execution_count": 20,
   "id": "88d178c1",
   "metadata": {},
   "outputs": [],
   "source": [
    "def addmod(evm):\n",
    "    a, b = evm.stack.pop(), evm.stack.pop()\n",
    "    N = evm.stack.pop()\n",
    "    evm.stack.push((a + b) % N)\n",
    "    evm.pc += 1\n",
    "    evm.gas_dec(8)"
   ]
  },
  {
   "cell_type": "code",
   "execution_count": 21,
   "id": "e6703ad1",
   "metadata": {},
   "outputs": [],
   "source": [
    "def mulmod(evm):\n",
    "    a, b = evm.stack.pop(), evm.stack.pop()\n",
    "    N = evm.stack.pop()\n",
    "    evm.stack.push((a * b) % N)\n",
    "    evm.pc += 1\n",
    "    evm.gas_dec(8)"
   ]
  },
  {
   "cell_type": "markdown",
   "id": "779a1bff",
   "metadata": {},
   "source": [
    "The gas cost for exp is dynamic. It is a function of how many bytes we need to represent the exponent in binary. This helper function calculates this."
   ]
  },
  {
   "cell_type": "code",
   "execution_count": null,
   "id": "91a5c8eb",
   "metadata": {},
   "outputs": [],
   "source": [
    "def size_in_bytes(number):\n",
    "    import math\n",
    "    if number == 0: return 1\n",
    "    bits_needed = math.ceil(math.log2(abs(number) + 1))\n",
    "    return math.ceil(bits_needed / 8)"
   ]
  },
  {
   "cell_type": "code",
   "execution_count": 22,
   "id": "8f49f2f2",
   "metadata": {},
   "outputs": [],
   "source": [
    "def exp(evm):\n",
    "    a, exponent = evm.stack.pop(), evm.stack.pop()\n",
    "    evm.stack.push(a ** exponent)\n",
    "    evm.pc += 1\n",
    "    evm.gas_dec(10 + (50 * size_in_bytes(exponent)))"
   ]
  },
  {
   "cell_type": "markdown",
   "id": "e095fb09",
   "metadata": {},
   "source": [
    "More informations about this rarely used opcode `signextend` [here](https://ethereum.stackexchange.com/questions/63062/evm-signextend-opcode-explanation)."
   ]
  },
  {
   "cell_type": "code",
   "execution_count": 37,
   "id": "e79c3c18",
   "metadata": {},
   "outputs": [],
   "source": [
    "def signextend(evm):\n",
    "    b, x = evm.stack.pop(), evm.stack.pop()\n",
    "    if b <= 31:\n",
    "        testbit = b * 8 + 7\n",
    "        sign_bit = 1 << testbit\n",
    "        if x & sign_bit: result = x | (2**256 - sign_bit)\n",
    "        else           : result = x & (sign_bit - 1)\n",
    "    else: result = x\n",
    "    \n",
    "    evm.stack.push(result)\n",
    "    evm.pc += 1\n",
    "    evm.gas_dec(5)"
   ]
  }
 ],
 "metadata": {
  "kernelspec": {
   "display_name": "Python 3 (ipykernel)",
   "language": "python",
   "name": "python3"
  },
  "language_info": {
   "codemirror_mode": {
    "name": "ipython",
    "version": 3
   },
   "file_extension": ".py",
   "mimetype": "text/x-python",
   "name": "python",
   "nbconvert_exporter": "python",
   "pygments_lexer": "ipython3",
   "version": "3.8.9"
  }
 },
 "nbformat": 4,
 "nbformat_minor": 5
}
