{
 "cells": [
  {
   "cell_type": "markdown",
   "id": "d9c52e04",
   "metadata": {},
   "source": [
    "# Logic"
   ]
  },
  {
   "cell_type": "markdown",
   "id": "c0d9f8f4",
   "metadata": {},
   "source": [
    "You are very familiar with this now. Same concept, different operations."
   ]
  },
  {
   "cell_type": "markdown",
   "id": "08c1bffd",
   "metadata": {},
   "source": [
    "#### And"
   ]
  },
  {
   "cell_type": "code",
   "execution_count": 1,
   "id": "68766f90",
   "metadata": {},
   "outputs": [],
   "source": [
    "def _and(evm):\n",
    "    a, b = evm.stack.pop(), evm.stack.pop()\n",
    "    evm.stack.push(a & b)\n",
    "    evm.pc += 1\n",
    "    evm.gas_dec(3)"
   ]
  },
  {
   "cell_type": "markdown",
   "id": "d1198500",
   "metadata": {},
   "source": [
    "#### Or"
   ]
  },
  {
   "cell_type": "code",
   "execution_count": null,
   "id": "9a909b61",
   "metadata": {},
   "outputs": [],
   "source": [
    "def _or(evm): \n",
    "    a, b = evm.stack.pop(), evm.stack.pop()\n",
    "    evm.stack.push(a | b)\n",
    "    evm.pc += 1\n",
    "    evm.gas_dec(3)"
   ]
  },
  {
   "cell_type": "markdown",
   "id": "c22ed407",
   "metadata": {},
   "source": [
    "#### Xor"
   ]
  },
  {
   "cell_type": "code",
   "execution_count": null,
   "id": "c95f5b28",
   "metadata": {},
   "outputs": [],
   "source": [
    "def _xor(evm): \n",
    "    a, b = evm.stack.pop(), evm.stack.pop()\n",
    "    evm.stack.push(a ^ b)\n",
    "    evm.pc += 1\n",
    "    evm.gas_dec(3)"
   ]
  },
  {
   "cell_type": "markdown",
   "id": "8d004584",
   "metadata": {},
   "source": [
    "#### Not"
   ]
  },
  {
   "cell_type": "code",
   "execution_count": null,
   "id": "b4592b76",
   "metadata": {},
   "outputs": [],
   "source": [
    "def _not(evm): \n",
    "    a = evm.stack.pop()\n",
    "    evm.stack.push(~a)\n",
    "    evm.pc += 1\n",
    "    evm.gas_dec(3)"
   ]
  }
 ],
 "metadata": {
  "kernelspec": {
   "display_name": "Python 3 (ipykernel)",
   "language": "python",
   "name": "python3"
  },
  "language_info": {
   "codemirror_mode": {
    "name": "ipython",
    "version": 3
   },
   "file_extension": ".py",
   "mimetype": "text/x-python",
   "name": "python",
   "nbconvert_exporter": "python",
   "pygments_lexer": "ipython3",
   "version": "3.8.9"
  }
 },
 "nbformat": 4,
 "nbformat_minor": 5
}
